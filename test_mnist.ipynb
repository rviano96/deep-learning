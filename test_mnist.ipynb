{
  "nbformat": 4,
  "nbformat_minor": 0,
  "metadata": {
    "colab": {
      "name": "test_mnist.ipynb",
      "private_outputs": true,
      "provenance": [],
      "collapsed_sections": [],
      "authorship_tag": "ABX9TyPOov5Rj9TGrQ4nWWS5YoQ9"
    },
    "kernelspec": {
      "name": "python3",
      "display_name": "Python 3"
    },
    "language_info": {
      "name": "python"
    },
    "accelerator": "GPU"
  },
  "cells": [
    {
      "cell_type": "code",
      "metadata": {
        "id": "ZwIrFdYyOhvf"
      },
      "source": [
        "import tensorflow as tf #Import tensorflow and set alias\n",
        "import tensorflow_datasets as tfds #Import tensorflow datasets and set alias\n",
        "import numpy as np #Import numpy and set alias\n",
        "from tensorflow.python.client import device_lib "
      ],
      "execution_count": null,
      "outputs": []
    },
    {
      "cell_type": "code",
      "metadata": {
        "id": "o5FhqIaTOqdS"
      },
      "source": [
        "tf.test.gpu_device_name() #show the related gpu name\n",
        "device_lib.list_local_devices() #Tells us what gpu we are using"
      ],
      "execution_count": null,
      "outputs": []
    },
    {
      "cell_type": "code",
      "metadata": {
        "id": "aTt8UlfLO95u"
      },
      "source": [
        "batch_size=100 #Set the batch size\n",
        "num_classes=10 #Set the number of clases\n",
        "epochs=1 #Set the number of epochs\n",
        "\n",
        "rows,cols= 28,28 #set the image size (28x28)\n",
        "#Load the data\n",
        "(xt,yt),(xtest,ytest)= tf.keras.datasets.mnist.load_data()\n",
        "#Reshape the data to the required size\n",
        "xt=xt.reshape(xt.shape[0],rows,cols,1)\n",
        "xtest=xtest.reshape(xtest.shape[0],rows,cols,1)\n",
        "#Set required type for data\n",
        "xt=xt.astype('float32')\n",
        "xtest=xtest.astype('float32')\n",
        "#Normalize train data values from 0 to 1\n",
        "xt=xt/255\n",
        "#Normalize test data values from 0 to 1\n",
        "xtest=xtest/255\n",
        "#transform labels to categorical data([1,0,0,0,0,0,0....])\n",
        "yt=tf.keras.utils.to_categorical(yt,num_classes)\n",
        "ytest=tf.keras.utils.to_categorical(ytest,num_classes)"
      ],
      "execution_count": null,
      "outputs": []
    },
    {
      "cell_type": "code",
      "metadata": {
        "id": "vP5tX7S1RXe9"
      },
      "source": [
        "#create the model\n",
        "model=tf.keras.Sequential([\n",
        "tf.keras.layers.Conv2D(64,kernel_size=(3,3),activation='relu',input_shape=(28,28,1)),\n",
        "tf.keras.layers.Conv2D(128,kernel_size=(3,3),activation='relu',input_shape=(28,28,1)),\n",
        "tf.keras.layers.MaxPooling2D(pool_size=(2,2)),\n",
        "tf.keras.layers.Flatten(),\n",
        "tf.keras.layers.Dense(68),\n",
        "tf.keras.layers.Dropout(0.25),\n",
        "tf.keras.layers.Dense(20),\n",
        "tf.keras.layers.Dropout(0.25),\n",
        "tf.keras.layers.Dense(num_classes,activation='softmax')         \n",
        "])\n",
        "\n",
        "#compile the model\n",
        "model.compile(loss=tf.keras.losses.categorical_crossentropy,optimizer='adam',metrics=['categorical_accuracy'])\n"
      ],
      "execution_count": null,
      "outputs": []
    },
    {
      "cell_type": "code",
      "metadata": {
        "id": "FSVW2dYcUBva"
      },
      "source": [
        "#Train the model\n",
        "model.fit(xt,yt,batch_size=batch_size,epochs=epochs,verbose=1,validation_data=(xtest,ytest))"
      ],
      "execution_count": null,
      "outputs": []
    },
    {
      "cell_type": "code",
      "metadata": {
        "id": "5FX9KOlBWS1V"
      },
      "source": [
        "#Test the model\n",
        "model.evaluate(xtest,ytest,verbose=1)"
      ],
      "execution_count": null,
      "outputs": []
    }
  ]
}