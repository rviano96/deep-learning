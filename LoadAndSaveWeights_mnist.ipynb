{
  "nbformat": 4,
  "nbformat_minor": 0,
  "metadata": {
    "colab": {
      "name": "LoadAndSaveWeights_mnist.ipynb",
      "private_outputs": true,
      "provenance": [],
      "collapsed_sections": [],
      "authorship_tag": "ABX9TyM9sCyT7DjySOX2A1ei0WWX"
    },
    "kernelspec": {
      "name": "python3",
      "display_name": "Python 3"
    },
    "language_info": {
      "name": "python"
    },
    "accelerator": "GPU"
  },
  "cells": [
    {
      "cell_type": "code",
      "metadata": {
        "id": "JVf_KkVqoDnz"
      },
      "source": [
        "import tensorflow as tf\n",
        "import numpy as np\n",
        "from tensorflow.keras.datasets import mnist"
      ],
      "execution_count": null,
      "outputs": []
    },
    {
      "cell_type": "code",
      "metadata": {
        "id": "Vb5Lb_KirPoA"
      },
      "source": [
        "batch_size=100\n",
        "num_classes=10\n",
        "epochs=30\n",
        "\n",
        "rows, cols = 28,28\n",
        "(xt,yt),(xtest,ytest)= mnist.load_data()\n",
        "\n",
        "xt=xt.reshape(xt.shape[0],rows,cols,1)\n",
        "xtest=xtest.reshape(xtest.shape[0],rows,cols,1)\n",
        "\n",
        "xt=xt.astype('float32')\n",
        "xtest=xtest.astype('float32')\n",
        "\n",
        "xt=xt/255\n",
        "xtest=xtest/255\n",
        "\n",
        "yt=tf.keras.utils.to_categorical(yt,num_classes)\n",
        "ytest=tf.keras.utils.to_categorical(ytest,num_classes)"
      ],
      "execution_count": null,
      "outputs": []
    },
    {
      "cell_type": "code",
      "metadata": {
        "id": "csNO4VGBreoV"
      },
      "source": [
        "inputs=tf.keras.layers.Input(shape=(rows,cols,1))\n",
        "x=tf.keras.layers.Conv2D(64,kernel_size=(3,3),activation='relu')(inputs)\n",
        "x=tf.keras.layers.Conv2D(128,kernel_size=(3,3),activation='relu')(x)\n",
        "x=tf.keras.layers.MaxPooling2D(pool_size=(2,2))(x)\n",
        "x=tf.keras.layers.Flatten()(x)\n",
        "x=tf.keras.layers.Dense(68,activation='relu')(x)\n",
        "x=tf.keras.layers.Dense(20,activation='relu')(x)\n",
        "x=tf.keras.layers.Dense(num_classes,activation='softmax')(x)\n",
        "\n",
        "model = tf.keras.models.Model(inputs=inputs, outputs=x)\n",
        "model.summary()"
      ],
      "execution_count": null,
      "outputs": []
    },
    {
      "cell_type": "code",
      "metadata": {
        "id": "iTeC7qFLmB9n"
      },
      "source": [
        "#Callback to save the whole model\n",
        "saveModel=tf.keras.callbacks.ModelCheckpoint('automodel.h5', monitor='val_loss', verbose=1, save_best_only=False, save_weights_only=False, mode='auto', save_freq=1)\n",
        "#Callback to save only the weight.\n",
        "saveWeights=tf.keras.callbacks.ModelCheckpoint('autoweight.h5', monitor='val_loss', verbose=1, save_best_only=False, save_weights_only=True, mode='auto', save_freq=1)\n"
      ],
      "execution_count": null,
      "outputs": []
    },
    {
      "cell_type": "code",
      "metadata": {
        "id": "EFFdKX72rnLc"
      },
      "source": [
        "model.compile(loss=tf.keras.losses.categorical_crossentropy,optimizer='Adam',metrics=['categorical_accuracy'])"
      ],
      "execution_count": null,
      "outputs": []
    },
    {
      "cell_type": "code",
      "metadata": {
        "id": "AaVqEUqHrqId"
      },
      "source": [
        "model.fit(xt,yt,batch_size=batch_size,epochs=epochs,callbacks=[saveModel,saveWeights],verbose=1,validation_data=(xtest,ytest))"
      ],
      "execution_count": null,
      "outputs": []
    },
    {
      "cell_type": "code",
      "metadata": {
        "id": "BI3tIr-vmbiw"
      },
      "source": [
        "model.evaluate(xtest,ytest,verbose=1)"
      ],
      "execution_count": null,
      "outputs": []
    },
    {
      "cell_type": "code",
      "metadata": {
        "id": "ZqCd2VCGmdlZ"
      },
      "source": [
        "#This is other way to save and load the model and weight.\n",
        "#It will save all the model even if there's an overfitting\n",
        "model.save('model.h5')\n",
        "from tensorflow.keras.models import load_model\n",
        "model2=load_model('model.h5')\n",
        "\n",
        "model.load_weights('autoweight.h5')\n",
        "model2=load_model('automodel.h5')"
      ],
      "execution_count": null,
      "outputs": []
    }
  ]
}