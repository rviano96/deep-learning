{
  "nbformat": 4,
  "nbformat_minor": 0,
  "metadata": {
    "colab": {
      "name": "BostonHousing_Regression.ipynb",
      "provenance": [],
      "collapsed_sections": [],
      "authorship_tag": "ABX9TyMaLUC3w/t5u6w0wixnjLmY",
      "include_colab_link": true
    },
    "kernelspec": {
      "name": "python3",
      "display_name": "Python 3"
    },
    "language_info": {
      "name": "python"
    },
    "accelerator": "GPU"
  },
  "cells": [
    {
      "cell_type": "markdown",
      "metadata": {
        "id": "view-in-github",
        "colab_type": "text"
      },
      "source": [
        "<a href=\"https://colab.research.google.com/github/rviano96/deep-learning/blob/main/BostonHousing_Regression.ipynb\" target=\"_parent\"><img src=\"https://colab.research.google.com/assets/colab-badge.svg\" alt=\"Open In Colab\"/></a>"
      ]
    },
    {
      "cell_type": "code",
      "metadata": {
        "id": "JVf_KkVqoDnz"
      },
      "source": [
        "#Sparse features\n",
        "import tensorflow as tf\n",
        "import numpy as np\n",
        "#Samples contain 13 attributes of houses at different locations around the Boston \n",
        "#suburbs in the late 1970s. Targets are the median values of the houses at a location (in k$).\n",
        "from tensorflow.keras.datasets import boston_housing\n",
        "import matplotlib.pylab as plt"
      ],
      "execution_count": 1,
      "outputs": []
    },
    {
      "cell_type": "code",
      "metadata": {
        "id": "Vb5Lb_KirPoA"
      },
      "source": [
        "#We have less data so the batch size should be small\n",
        "batch_size=10\n",
        "epochs=50\n",
        "\n",
        "(xt,yt),(xtest,ytest)= boston_housing.load_data()\n",
        "\n",
        "#Normalize data.\n",
        "#There are multiple methods, this is one of them.\n",
        "#At the end the data will be between -1 and 1\n",
        "mean = xt.mean(axis=0) #Compute the mean (sum of data divided by the number of data-points)\n",
        "xt -= mean #Substract the mean from the data\n",
        "std = xt.std(axis=0) #Compute the standard deviation(the square root of its variance)\n",
        "xt /= std #Divide by the standard deviation (here we get the data between -1 and 1)\n",
        "#We apply the same normalization for our test data.\n",
        "#Important: The mean and the standard deviation used must be the same\n",
        "#than the one used for the training data.\n",
        "xtest -= mean\n",
        "xtest /= std\n",
        "\n",
        "#We normalize the \"results\" colum. \n",
        "#To get values betweeen 0 and 1\n",
        "max = np.max(yt)\n",
        "yt /= max\n",
        "ytest /= max\n"
      ],
      "execution_count": 3,
      "outputs": []
    },
    {
      "cell_type": "code",
      "metadata": {
        "colab": {
          "base_uri": "https://localhost:8080/"
        },
        "id": "csNO4VGBreoV",
        "outputId": "7712ee19-e1c4-4e6d-f68d-c9f1f9e604ef"
      },
      "source": [
        "#Classic network (not ccn) because we only have sparse features\n",
        "inputs=tf.keras.layers.Input(shape=(xt.shape[1],))\n",
        "x=tf.keras.layers.Dense(64,activation='relu')(inputs)\n",
        "x=tf.keras.layers.Dense(64,activation='relu')(x)\n",
        "#Linear activation is used in regression models\n",
        "#It allows the output to fit \"freely\"\n",
        "x=tf.keras.layers.Dense(1,activation='linear')(x)\n",
        "\n",
        "model = tf.keras.models.Model(inputs=inputs, outputs=x)\n",
        "model.summary()"
      ],
      "execution_count": 4,
      "outputs": [
        {
          "output_type": "stream",
          "name": "stdout",
          "text": [
            "Model: \"model\"\n",
            "_________________________________________________________________\n",
            " Layer (type)                Output Shape              Param #   \n",
            "=================================================================\n",
            " input_1 (InputLayer)        [(None, 13)]              0         \n",
            "                                                                 \n",
            " dense (Dense)               (None, 64)                896       \n",
            "                                                                 \n",
            " dense_1 (Dense)             (None, 64)                4160      \n",
            "                                                                 \n",
            " dense_2 (Dense)             (None, 1)                 65        \n",
            "                                                                 \n",
            "=================================================================\n",
            "Total params: 5,121\n",
            "Trainable params: 5,121\n",
            "Non-trainable params: 0\n",
            "_________________________________________________________________\n"
          ]
        }
      ]
    },
    {
      "cell_type": "code",
      "metadata": {
        "id": "EFFdKX72rnLc"
      },
      "source": [
        "adam = tf.keras.optimizers.Adam(learning_rate=0.001,beta_1=0.9,beta_2=0.9)#SGD(lr=0.001, decay=1e-6, momentum=0.9, nesterov=True)\n",
        "#We use other loss function because it's regression not classification\n",
        "#MSE: mean squared error. Compare the output, computes the error and try to get a better error in the next iteration\n",
        "#MAE: mean absolute error. Compare the output, computes the error and try to get a better error in the next iteration\n",
        "model.compile(loss=tf.keras.losses.mse,optimizer=adam,metrics=['mse'])"
      ],
      "execution_count": 5,
      "outputs": []
    },
    {
      "cell_type": "code",
      "metadata": {
        "colab": {
          "base_uri": "https://localhost:8080/"
        },
        "id": "AaVqEUqHrqId",
        "outputId": "1a86541d-d5d5-435a-a120-25fbee2354bc"
      },
      "source": [
        "#the history get the history of the training\n",
        "history=model.fit(xt,yt,batch_size=batch_size,epochs=epochs,verbose=1,validation_data=(xtest,ytest))"
      ],
      "execution_count": 6,
      "outputs": [
        {
          "output_type": "stream",
          "name": "stdout",
          "text": [
            "Epoch 1/50\n",
            "41/41 [==============================] - 2s 10ms/step - loss: 0.0642 - mse: 0.0642 - val_loss: 0.0195 - val_mse: 0.0195\n",
            "Epoch 2/50\n",
            "41/41 [==============================] - 0s 6ms/step - loss: 0.0091 - mse: 0.0091 - val_loss: 0.0133 - val_mse: 0.0133\n",
            "Epoch 3/50\n",
            "41/41 [==============================] - 0s 5ms/step - loss: 0.0064 - mse: 0.0064 - val_loss: 0.0115 - val_mse: 0.0115\n",
            "Epoch 4/50\n",
            "41/41 [==============================] - 0s 6ms/step - loss: 0.0052 - mse: 0.0052 - val_loss: 0.0091 - val_mse: 0.0091\n",
            "Epoch 5/50\n",
            "41/41 [==============================] - 0s 5ms/step - loss: 0.0047 - mse: 0.0047 - val_loss: 0.0094 - val_mse: 0.0094\n",
            "Epoch 6/50\n",
            "41/41 [==============================] - 0s 5ms/step - loss: 0.0046 - mse: 0.0046 - val_loss: 0.0092 - val_mse: 0.0092\n",
            "Epoch 7/50\n",
            "41/41 [==============================] - 0s 5ms/step - loss: 0.0046 - mse: 0.0046 - val_loss: 0.0106 - val_mse: 0.0106\n",
            "Epoch 8/50\n",
            "41/41 [==============================] - 0s 6ms/step - loss: 0.0043 - mse: 0.0043 - val_loss: 0.0073 - val_mse: 0.0073\n",
            "Epoch 9/50\n",
            "41/41 [==============================] - 0s 4ms/step - loss: 0.0039 - mse: 0.0039 - val_loss: 0.0071 - val_mse: 0.0071\n",
            "Epoch 10/50\n",
            "41/41 [==============================] - 0s 6ms/step - loss: 0.0033 - mse: 0.0033 - val_loss: 0.0098 - val_mse: 0.0098\n",
            "Epoch 11/50\n",
            "41/41 [==============================] - 0s 4ms/step - loss: 0.0033 - mse: 0.0033 - val_loss: 0.0066 - val_mse: 0.0066\n",
            "Epoch 12/50\n",
            "41/41 [==============================] - 0s 5ms/step - loss: 0.0032 - mse: 0.0032 - val_loss: 0.0068 - val_mse: 0.0068\n",
            "Epoch 13/50\n",
            "41/41 [==============================] - 0s 5ms/step - loss: 0.0034 - mse: 0.0034 - val_loss: 0.0073 - val_mse: 0.0073\n",
            "Epoch 14/50\n",
            "41/41 [==============================] - 0s 6ms/step - loss: 0.0034 - mse: 0.0034 - val_loss: 0.0063 - val_mse: 0.0063\n",
            "Epoch 15/50\n",
            "41/41 [==============================] - 0s 5ms/step - loss: 0.0025 - mse: 0.0025 - val_loss: 0.0067 - val_mse: 0.0067\n",
            "Epoch 16/50\n",
            "41/41 [==============================] - 0s 5ms/step - loss: 0.0029 - mse: 0.0029 - val_loss: 0.0082 - val_mse: 0.0082\n",
            "Epoch 17/50\n",
            "41/41 [==============================] - 0s 6ms/step - loss: 0.0026 - mse: 0.0026 - val_loss: 0.0059 - val_mse: 0.0059\n",
            "Epoch 18/50\n",
            "41/41 [==============================] - 0s 5ms/step - loss: 0.0026 - mse: 0.0026 - val_loss: 0.0061 - val_mse: 0.0061\n",
            "Epoch 19/50\n",
            "41/41 [==============================] - 0s 5ms/step - loss: 0.0025 - mse: 0.0025 - val_loss: 0.0068 - val_mse: 0.0068\n",
            "Epoch 20/50\n",
            "41/41 [==============================] - 0s 5ms/step - loss: 0.0023 - mse: 0.0023 - val_loss: 0.0059 - val_mse: 0.0059\n",
            "Epoch 21/50\n",
            "41/41 [==============================] - 0s 5ms/step - loss: 0.0030 - mse: 0.0030 - val_loss: 0.0060 - val_mse: 0.0060\n",
            "Epoch 22/50\n",
            "41/41 [==============================] - 0s 5ms/step - loss: 0.0022 - mse: 0.0022 - val_loss: 0.0061 - val_mse: 0.0061\n",
            "Epoch 23/50\n",
            "41/41 [==============================] - 0s 5ms/step - loss: 0.0021 - mse: 0.0021 - val_loss: 0.0083 - val_mse: 0.0083\n",
            "Epoch 24/50\n",
            "41/41 [==============================] - 0s 6ms/step - loss: 0.0020 - mse: 0.0020 - val_loss: 0.0064 - val_mse: 0.0064\n",
            "Epoch 25/50\n",
            "41/41 [==============================] - 0s 5ms/step - loss: 0.0020 - mse: 0.0020 - val_loss: 0.0056 - val_mse: 0.0056\n",
            "Epoch 26/50\n",
            "41/41 [==============================] - 0s 5ms/step - loss: 0.0017 - mse: 0.0017 - val_loss: 0.0071 - val_mse: 0.0071\n",
            "Epoch 27/50\n",
            "41/41 [==============================] - 0s 6ms/step - loss: 0.0019 - mse: 0.0019 - val_loss: 0.0058 - val_mse: 0.0058\n",
            "Epoch 28/50\n",
            "41/41 [==============================] - 0s 5ms/step - loss: 0.0021 - mse: 0.0021 - val_loss: 0.0082 - val_mse: 0.0082\n",
            "Epoch 29/50\n",
            "41/41 [==============================] - 0s 6ms/step - loss: 0.0025 - mse: 0.0025 - val_loss: 0.0064 - val_mse: 0.0064\n",
            "Epoch 30/50\n",
            "41/41 [==============================] - 0s 5ms/step - loss: 0.0023 - mse: 0.0023 - val_loss: 0.0077 - val_mse: 0.0077\n",
            "Epoch 31/50\n",
            "41/41 [==============================] - 0s 5ms/step - loss: 0.0018 - mse: 0.0018 - val_loss: 0.0063 - val_mse: 0.0063\n",
            "Epoch 32/50\n",
            "41/41 [==============================] - 0s 5ms/step - loss: 0.0017 - mse: 0.0017 - val_loss: 0.0060 - val_mse: 0.0060\n",
            "Epoch 33/50\n",
            "41/41 [==============================] - 0s 5ms/step - loss: 0.0019 - mse: 0.0019 - val_loss: 0.0066 - val_mse: 0.0066\n",
            "Epoch 34/50\n",
            "41/41 [==============================] - 0s 5ms/step - loss: 0.0022 - mse: 0.0022 - val_loss: 0.0055 - val_mse: 0.0055\n",
            "Epoch 35/50\n",
            "41/41 [==============================] - 0s 5ms/step - loss: 0.0021 - mse: 0.0021 - val_loss: 0.0070 - val_mse: 0.0070\n",
            "Epoch 36/50\n",
            "41/41 [==============================] - 0s 6ms/step - loss: 0.0016 - mse: 0.0016 - val_loss: 0.0055 - val_mse: 0.0055\n",
            "Epoch 37/50\n",
            "41/41 [==============================] - 0s 6ms/step - loss: 0.0014 - mse: 0.0014 - val_loss: 0.0054 - val_mse: 0.0054\n",
            "Epoch 38/50\n",
            "41/41 [==============================] - 0s 5ms/step - loss: 0.0014 - mse: 0.0014 - val_loss: 0.0055 - val_mse: 0.0055\n",
            "Epoch 39/50\n",
            "41/41 [==============================] - 0s 5ms/step - loss: 0.0015 - mse: 0.0015 - val_loss: 0.0055 - val_mse: 0.0055\n",
            "Epoch 40/50\n",
            "41/41 [==============================] - 0s 5ms/step - loss: 0.0016 - mse: 0.0016 - val_loss: 0.0061 - val_mse: 0.0061\n",
            "Epoch 41/50\n",
            "41/41 [==============================] - 0s 5ms/step - loss: 0.0014 - mse: 0.0014 - val_loss: 0.0054 - val_mse: 0.0054\n",
            "Epoch 42/50\n",
            "41/41 [==============================] - 0s 6ms/step - loss: 0.0013 - mse: 0.0013 - val_loss: 0.0064 - val_mse: 0.0064\n",
            "Epoch 43/50\n",
            "41/41 [==============================] - 0s 5ms/step - loss: 0.0017 - mse: 0.0017 - val_loss: 0.0056 - val_mse: 0.0056\n",
            "Epoch 44/50\n",
            "41/41 [==============================] - 0s 5ms/step - loss: 0.0016 - mse: 0.0016 - val_loss: 0.0059 - val_mse: 0.0059\n",
            "Epoch 45/50\n",
            "41/41 [==============================] - 0s 5ms/step - loss: 0.0017 - mse: 0.0017 - val_loss: 0.0055 - val_mse: 0.0055\n",
            "Epoch 46/50\n",
            "41/41 [==============================] - 0s 6ms/step - loss: 0.0011 - mse: 0.0011 - val_loss: 0.0054 - val_mse: 0.0054\n",
            "Epoch 47/50\n",
            "41/41 [==============================] - 0s 5ms/step - loss: 0.0012 - mse: 0.0012 - val_loss: 0.0051 - val_mse: 0.0051\n",
            "Epoch 48/50\n",
            "41/41 [==============================] - 0s 5ms/step - loss: 0.0012 - mse: 0.0012 - val_loss: 0.0049 - val_mse: 0.0049\n",
            "Epoch 49/50\n",
            "41/41 [==============================] - 0s 6ms/step - loss: 0.0012 - mse: 0.0012 - val_loss: 0.0055 - val_mse: 0.0055\n",
            "Epoch 50/50\n",
            "41/41 [==============================] - 0s 5ms/step - loss: 0.0013 - mse: 0.0013 - val_loss: 0.0062 - val_mse: 0.0062\n"
          ]
        }
      ]
    },
    {
      "cell_type": "code",
      "metadata": {
        "colab": {
          "base_uri": "https://localhost:8080/"
        },
        "id": "drLnZOSMxJwh",
        "outputId": "a0b7c3ce-f2c8-4f5e-f8f2-b221cf373952"
      },
      "source": [
        "#Test the model\n",
        "pointing = model.evaluate(xtest, ytest, verbose=1)\n",
        "print(pointing)"
      ],
      "execution_count": 7,
      "outputs": [
        {
          "output_type": "stream",
          "name": "stdout",
          "text": [
            "4/4 [==============================] - 0s 4ms/step - loss: 0.0062 - mse: 0.0062\n",
            "[0.006193504203110933, 0.006193504203110933]\n"
          ]
        }
      ]
    },
    {
      "cell_type": "code",
      "metadata": {
        "colab": {
          "base_uri": "https://localhost:8080/",
          "height": 295
        },
        "id": "iwbuujJOxTV6",
        "outputId": "b0742b29-16cb-4c81-db1c-6e953eac6250"
      },
      "source": [
        "#plot the history\n",
        "plt.figure(1)\n",
        "plt.plot(np.sqrt(history.history['loss'])*max)\n",
        "plt.plot(np.sqrt(history.history['val_loss'])*max)#We multiply by max to get numbers in dollars and understand it\n",
        "plt.title('Model loss')\n",
        "plt.ylabel('Loss')\n",
        "plt.xlabel('Epochs')\n",
        "plt.legend(['Training', 'Test'], loc='upper right')\n",
        "\n",
        "plt.show()"
      ],
      "execution_count": 13,
      "outputs": [
        {
          "output_type": "display_data",
          "data": {
            "image/png": "[encoded data removed]",
            "text/plain": [
              "<Figure size 432x288 with 1 Axes>"
            ]
          },
          "metadata": {
            "needs_background": "light"
          }
        }
      ]
    }
  ]
}