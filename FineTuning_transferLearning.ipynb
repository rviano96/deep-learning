{
  "nbformat": 4,
  "nbformat_minor": 0,
  "metadata": {
    "colab": {
      "name": "FineTuning_transferLearning.ipynb",
      "provenance": [],
      "authorship_tag": "ABX9TyNFcX3+VLei/r3FmM1RsT/f",
      "include_colab_link": true
    },
    "kernelspec": {
      "name": "python3",
      "display_name": "Python 3"
    },
    "language_info": {
      "name": "python"
    }
  },
  "cells": [
    {
      "cell_type": "markdown",
      "metadata": {
        "id": "view-in-github",
        "colab_type": "text"
      },
      "source": [
        "<a href=\"https://colab.research.google.com/github/rviano96/deep-learning/blob/main/FineTuning_transferLearning.ipynb\" target=\"_parent\"><img src=\"https://colab.research.google.com/assets/colab-badge.svg\" alt=\"Open In Colab\"/></a>"
      ]
    },
    {
      "cell_type": "code",
      "execution_count": 4,
      "metadata": {
        "id": "5figuKz4bV7M"
      },
      "outputs": [],
      "source": [
        "#Fine tuning and transfer learning\n",
        "import tensorflow as tf\n",
        "import tensorflow.keras\n",
        "import numpy as np\n",
        "from tensorflow.keras.datasets import cifar10\n",
        "from tensorflow.keras.models import Sequential,Model\n",
        "from tensorflow.keras.layers import Dense,Dropout,Flatten,Conv2D,MaxPooling2D,Input\n",
        "#Import pretrained networks\n",
        "from tensorflow.keras.applications import vgg16, resnet50, inception_resnet_v2, inception_v3, xception\n",
        "from tensorflow.keras.optimizers import SGD, Adam\n",
        "from tensorflow.keras.callbacks import TensorBoard\n",
        "from keras_preprocessing import image\n",
        "import matplotlib.pylab as plt"
      ]
    },
    {
      "cell_type": "code",
      "source": [
        "\n",
        "batch_size=100\n",
        "num_classes=10\n",
        "epochs=50\n",
        "\n",
        "\n",
        "TRANSFER_LEARNING=1\n",
        "FINE_TUNING=0\n",
        "if(TRANSFER_LEARNING):\n",
        "      #It allows us to freeze some layers so they dont get trained.\n",
        "      #It's not ok to freeze all the convolutional layers as we are doing here\n",
        "      #But we can freeze almost all of them\n",
        "      image_input = Input(shape=(224,224,3))\n",
        "      modelo=vgg16.VGG16(weights='imagenet',include_top=False,input_shape=(224,224,3))\n",
        "      for layer in modelo.layers[:]:\n",
        "        layer.trainable = False\n",
        "      x=modelo.output\n",
        "      x=Flatten()(x)\n",
        "      x=Dense(1000)(x)\n",
        "      x=Dense(100)(x)\n",
        "      modelo = Model(inputs=modelo.input, outputs=x)\n",
        "      modelo.summary()\n",
        "      \n",
        "if(FINE_TUNING):\n",
        "  #retrain a network\n",
        "  #Goal: Use a pretained network and train it again for my own problem.\n",
        "\n",
        "  image_input = Input(shape=(224,224,3))\n",
        "  #include_top = False -> only include convolutional part\n",
        "  #include_top = True -> include the dense part as well\n",
        "  modelo=vgg16.VGG16(weights='imagenet',include_top=False,input_shape=(224,224,3))\n",
        "  x=modelo.output\n",
        "  x=Flatten()(x)\n",
        "  x=Dense(1000,activation='relu')(x)\n",
        "  x=Dense(100,activation='softmax')(x)\n",
        "  modelo = Model(inputs=modelo.input, outputs=x)\n",
        "  modelo.summary()"
      ],
      "metadata": {
        "colab": {
          "base_uri": "https://localhost:8080/"
        },
        "id": "S2O4QnNfb3vY",
        "outputId": "54802a27-066a-4447-f5bc-2c67bfb42785"
      },
      "execution_count": 8,
      "outputs": [
        {
          "output_type": "stream",
          "name": "stdout",
          "text": [
            "Model: \"model_3\"\n",
            "_________________________________________________________________\n",
            " Layer (type)                Output Shape              Param #   \n",
            "=================================================================\n",
            " input_8 (InputLayer)        [(None, 224, 224, 3)]     0         \n",
            "                                                                 \n",
            " block1_conv1 (Conv2D)       (None, 224, 224, 64)      1792      \n",
            "                                                                 \n",
            " block1_conv2 (Conv2D)       (None, 224, 224, 64)      36928     \n",
            "                                                                 \n",
            " block1_pool (MaxPooling2D)  (None, 112, 112, 64)      0         \n",
            "                                                                 \n",
            " block2_conv1 (Conv2D)       (None, 112, 112, 128)     73856     \n",
            "                                                                 \n",
            " block2_conv2 (Conv2D)       (None, 112, 112, 128)     147584    \n",
            "                                                                 \n",
            " block2_pool (MaxPooling2D)  (None, 56, 56, 128)       0         \n",
            "                                                                 \n",
            " block3_conv1 (Conv2D)       (None, 56, 56, 256)       295168    \n",
            "                                                                 \n",
            " block3_conv2 (Conv2D)       (None, 56, 56, 256)       590080    \n",
            "                                                                 \n",
            " block3_conv3 (Conv2D)       (None, 56, 56, 256)       590080    \n",
            "                                                                 \n",
            " block3_pool (MaxPooling2D)  (None, 28, 28, 256)       0         \n",
            "                                                                 \n",
            " block4_conv1 (Conv2D)       (None, 28, 28, 512)       1180160   \n",
            "                                                                 \n",
            " block4_conv2 (Conv2D)       (None, 28, 28, 512)       2359808   \n",
            "                                                                 \n",
            " block4_conv3 (Conv2D)       (None, 28, 28, 512)       2359808   \n",
            "                                                                 \n",
            " block4_pool (MaxPooling2D)  (None, 14, 14, 512)       0         \n",
            "                                                                 \n",
            " block5_conv1 (Conv2D)       (None, 14, 14, 512)       2359808   \n",
            "                                                                 \n",
            " block5_conv2 (Conv2D)       (None, 14, 14, 512)       2359808   \n",
            "                                                                 \n",
            " block5_conv3 (Conv2D)       (None, 14, 14, 512)       2359808   \n",
            "                                                                 \n",
            " block5_pool (MaxPooling2D)  (None, 7, 7, 512)         0         \n",
            "                                                                 \n",
            " flatten_3 (Flatten)         (None, 25088)             0         \n",
            "                                                                 \n",
            " dense_6 (Dense)             (None, 1000)              25089000  \n",
            "                                                                 \n",
            " dense_7 (Dense)             (None, 100)               100100    \n",
            "                                                                 \n",
            "=================================================================\n",
            "Total params: 39,903,788\n",
            "Trainable params: 25,189,100\n",
            "Non-trainable params: 14,714,688\n",
            "_________________________________________________________________\n"
          ]
        }
      ]
    }
  ]
}