{
  "nbformat": 4,
  "nbformat_minor": 0,
  "metadata": {
    "colab": {
      "name": "Multiclass_Classifier_withplots_CIFAR10.ipynb",
      "provenance": [],
      "collapsed_sections": [],
      "authorship_tag": "ABX9TyPyxLYpa4W6vP5nYQCj5+yT"
    },
    "kernelspec": {
      "name": "python3",
      "display_name": "Python 3"
    },
    "language_info": {
      "name": "python"
    },
    "accelerator": "GPU"
  },
  "cells": [
    {
      "cell_type": "code",
      "metadata": {
        "id": "JVf_KkVqoDnz"
      },
      "source": [
        "import tensorflow as tf\n",
        "import numpy as np\n",
        "#The CIFAR-100 dataset consists of 60000 32x32 colour images in 10 classes, \n",
        "#with 6000 images per class. There are 50000 training images and 10000 test images.\n",
        "from tensorflow.keras.datasets import cifar10\n",
        "import matplotlib.pylab as plt"
      ],
      "execution_count": 1,
      "outputs": []
    },
    {
      "cell_type": "code",
      "metadata": {
        "id": "Vb5Lb_KirPoA",
        "colab": {
          "base_uri": "https://localhost:8080/"
        },
        "outputId": "0b72e134-913f-4031-b0b8-6d27ea178738"
      },
      "source": [
        "batch_size=100\n",
        "num_classes=10\n",
        "epochs=30\n",
        "\n",
        "\n",
        "(xt,yt),(xtest,ytest)= cifar10.load_data()\n",
        "\n",
        "_,rows, cols, channels = xt.shape\n",
        "\n",
        "xt=xt.astype('float32')\n",
        "xtest=xtest.astype('float32')\n",
        "\n",
        "xt=xt/255\n",
        "xtest=xtest/255\n",
        "\n",
        "yt=tf.keras.utils.to_categorical(yt,num_classes)\n",
        "ytest=tf.keras.utils.to_categorical(ytest,num_classes)"
      ],
      "execution_count": 2,
      "outputs": [
        {
          "output_type": "stream",
          "name": "stdout",
          "text": [
            "Downloading data from https://www.cs.toronto.edu/~kriz/cifar-10-python.tar.gz\n",
            "170500096/170498071 [==============================] - 6s 0us/step\n",
            "170508288/170498071 [==============================] - 6s 0us/step\n"
          ]
        }
      ]
    },
    {
      "cell_type": "code",
      "metadata": {
        "colab": {
          "base_uri": "https://localhost:8080/"
        },
        "id": "csNO4VGBreoV",
        "outputId": "0cc007bb-8a57-460f-ea09-af40cc0278df"
      },
      "source": [
        "inputs=tf.keras.layers.Input(shape=(rows,cols,channels))\n",
        "x = tf.keras.layers.Conv2D(64, (3, 3), activation='relu', padding='same', name='block1_conv1')(inputs)\n",
        "x = tf.keras.layers.Conv2D(64, (3, 3), activation='relu', padding='same', name='block1_conv2')(x)\n",
        "x = tf.keras.layers.MaxPooling2D((2, 2), strides=(2, 2), name='block1_pool')(x)\n",
        "\n",
        "x = tf.keras.layers.Conv2D(128, (3, 3), activation='relu', padding='same', name='block2_conv1')(x)\n",
        "x = tf.keras.layers.Conv2D(128, (3, 3), activation='relu', padding='same', name='block2_conv2')(x)\n",
        "x = tf.keras.layers.MaxPooling2D((2, 2), strides=(2, 2), name='block2_pool')(x)\n",
        " \n",
        "x=tf.keras.layers.Flatten()(x) #Flatten = convert the image to an array\n",
        "x=tf.keras.layers.Dense(512,activation='relu')(x)\n",
        "x=tf.keras.layers.Dropout(0.5)(x)\n",
        "x=tf.keras.layers.Dense(num_classes,activation='softmax')(x)\n",
        "\n",
        "model = tf.keras.models.Model(inputs=inputs, outputs=x)\n",
        "model.summary()"
      ],
      "execution_count": 3,
      "outputs": [
        {
          "output_type": "stream",
          "name": "stdout",
          "text": [
            "Model: \"model\"\n",
            "_________________________________________________________________\n",
            " Layer (type)                Output Shape              Param #   \n",
            "=================================================================\n",
            " input_1 (InputLayer)        [(None, 32, 32, 3)]       0         \n",
            "                                                                 \n",
            " block1_conv1 (Conv2D)       (None, 32, 32, 64)        1792      \n",
            "                                                                 \n",
            " block1_conv2 (Conv2D)       (None, 32, 32, 64)        36928     \n",
            "                                                                 \n",
            " block1_pool (MaxPooling2D)  (None, 16, 16, 64)        0         \n",
            "                                                                 \n",
            " block2_conv1 (Conv2D)       (None, 16, 16, 128)       73856     \n",
            "                                                                 \n",
            " block2_conv2 (Conv2D)       (None, 16, 16, 128)       147584    \n",
            "                                                                 \n",
            " block2_pool (MaxPooling2D)  (None, 8, 8, 128)         0         \n",
            "                                                                 \n",
            " flatten (Flatten)           (None, 8192)              0         \n",
            "                                                                 \n",
            " dense (Dense)               (None, 512)               4194816   \n",
            "                                                                 \n",
            " dropout (Dropout)           (None, 512)               0         \n",
            "                                                                 \n",
            " dense_1 (Dense)             (None, 10)                5130      \n",
            "                                                                 \n",
            "=================================================================\n",
            "Total params: 4,460,106\n",
            "Trainable params: 4,460,106\n",
            "Non-trainable params: 0\n",
            "_________________________________________________________________\n"
          ]
        }
      ]
    },
    {
      "cell_type": "code",
      "metadata": {
        "id": "EFFdKX72rnLc"
      },
      "source": [
        "stochastic_gradient_descent = tf.keras.optimizers.Adam(learning_rate=0.001,beta_1=0.9,beta_2=0.9)#SGD(lr=0.001, decay=1e-6, momentum=0.9, nesterov=True)\n",
        "model.compile(loss=tf.keras.losses.categorical_crossentropy,optimizer=stochastic_gradient_descent,metrics=['categorical_accuracy'])"
      ],
      "execution_count": 4,
      "outputs": []
    },
    {
      "cell_type": "code",
      "metadata": {
        "colab": {
          "base_uri": "https://localhost:8080/"
        },
        "id": "AaVqEUqHrqId",
        "outputId": "83f8d4ec-68dc-4a20-8595-bb5491b22727"
      },
      "source": [
        "#the history get the history of the training\n",
        "history=model.fit(xt,yt,batch_size=batch_size,epochs=5,verbose=1,validation_data=(xtest,ytest))"
      ],
      "execution_count": 10,
      "outputs": [
        {
          "output_type": "stream",
          "name": "stdout",
          "text": [
            "Epoch 1/5\n",
            "500/500 [==============================] - 19s 39ms/step - loss: 0.4018 - categorical_accuracy: 0.8614 - val_loss: 0.7322 - val_categorical_accuracy: 0.7809\n",
            "Epoch 2/5\n",
            "500/500 [==============================] - 19s 38ms/step - loss: 0.3681 - categorical_accuracy: 0.8734 - val_loss: 0.8234 - val_categorical_accuracy: 0.7785\n",
            "Epoch 3/5\n",
            "500/500 [==============================] - 19s 38ms/step - loss: 0.3491 - categorical_accuracy: 0.8805 - val_loss: 0.7522 - val_categorical_accuracy: 0.7825\n",
            "Epoch 4/5\n",
            "500/500 [==============================] - 19s 38ms/step - loss: 0.3380 - categorical_accuracy: 0.8858 - val_loss: 0.7156 - val_categorical_accuracy: 0.7797\n",
            "Epoch 5/5\n",
            "500/500 [==============================] - 19s 38ms/step - loss: 0.3303 - categorical_accuracy: 0.8900 - val_loss: 0.7638 - val_categorical_accuracy: 0.7839\n"
          ]
        }
      ]
    },
    {
      "cell_type": "code",
      "metadata": {
        "colab": {
          "base_uri": "https://localhost:8080/"
        },
        "id": "drLnZOSMxJwh",
        "outputId": "ac2ba12b-b096-4f22-9728-c08359600349"
      },
      "source": [
        "#Test the model\n",
        "pointing = model.evaluate(xtest, ytest, verbose=1)\n",
        "print(pointing)"
      ],
      "execution_count": 11,
      "outputs": [
        {
          "output_type": "stream",
          "name": "stdout",
          "text": [
            "313/313 [==============================] - 3s 9ms/step - loss: 0.7638 - categorical_accuracy: 0.7839\n",
            "[0.7638322710990906, 0.7839000225067139]\n"
          ]
        }
      ]
    },
    {
      "cell_type": "code",
      "metadata": {
        "colab": {
          "base_uri": "https://localhost:8080/",
          "height": 573
        },
        "id": "iwbuujJOxTV6",
        "outputId": "2a28c1f3-562c-4d35-e162-70dc1b80d1b6"
      },
      "source": [
        "#plot the history\n",
        "plt.figure(1)\n",
        "plt.plot(history.history['categorical_accuracy'])\n",
        "plt.plot(history.history['val_categorical_accuracy'])\n",
        "plt.title('Model accuracy')\n",
        "plt.ylabel('Accuracy')\n",
        "plt.xlabel('Epochs')\n",
        "plt.legend(['Training', 'Test'], loc='upper left')\n",
        "\n",
        "plt.figure(2)\n",
        "plt.plot(history.history['loss'])\n",
        "plt.plot(history.history['val_loss'])\n",
        "plt.title('Model loss')\n",
        "plt.ylabel('Loss')\n",
        "plt.xlabel('Epochs')\n",
        "plt.legend(['Training', 'Test'], loc='upper left')\n",
        "\n",
        "plt.show()"
      ],
      "execution_count": 12,
      "outputs": [
        {
          "output_type": "display_data",
          "data": {
            "image/png": "[encoded data removed]",
            "text/plain": [
              "<Figure size 432x288 with 1 Axes>"
            ]
          },
          "metadata": {
            "needs_background": "light"
          }
        },
        {
          "output_type": "display_data",
          "data": {
            "image/png": "[encoded data removed]",
            "text/plain": [
              "<Figure size 432x288 with 1 Axes>"
            ]
          },
          "metadata": {
            "needs_background": "light"
          }
        }
      ]
    }
  ]
}